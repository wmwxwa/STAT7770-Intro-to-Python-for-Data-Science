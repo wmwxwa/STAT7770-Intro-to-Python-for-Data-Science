{
 "cells": [
  {
   "cell_type": "markdown",
   "id": "092a6045",
   "metadata": {},
   "source": [
    "# Introduction to Python for Data Science, Homework 1\n",
    "\n",
    "YOUR NAME HERE"
   ]
  },
  {
   "cell_type": "markdown",
   "id": "e9c10e20",
   "metadata": {},
   "source": [
    "# Question 1 (15 points)\n",
    "\n",
    "In this question, you will work with a `while` loop.\n",
    "\n",
    "Suppose you have `funds = 1` dollars. Using your newfound data science powers, you forecast the outcomes of major sporting events and place a series of perfectly successful bets in the nearby gambling mecca of Atlantic City. While you are allowed to place bets, each successful bet doubles your funds. However, bookkeepers realize something is amiss when your total earnings (i.e., current funds minus initial funds) exceeds $1,000,000. They honor the final payout, but prohibit you from placing additional bets.\n",
    "\n",
    "How much do you leave with?"
   ]
  },
  {
   "cell_type": "code",
   "execution_count": 1,
   "id": "05243536",
   "metadata": {},
   "outputs": [
    {
     "name": "stdout",
     "output_type": "stream",
     "text": [
      "1048576\n"
     ]
    }
   ],
   "source": [
    "# your question 1 code here\n",
    "funds = 1\n",
    "\n",
    "while funds < 1000000:\n",
    "    funds = funds * 2\n",
    "\n",
    "print(funds)"
   ]
  },
  {
   "cell_type": "markdown",
   "id": "cc15f754",
   "metadata": {},
   "source": [
    "# Question 2 (15 points)\n",
    "\n",
    "In this question, you will work with a nested dictionary.\n",
    "\n",
    "You are cleaning data on air traffic volume, provided in the next code block. Run the next cell to create the dictionary, then read on to sub-questions 2(a–d) in subsequent cells. For each sub-question, place your code in the cell indicated."
   ]
  },
  {
   "cell_type": "code",
   "execution_count": 2,
   "id": "d0fa9162",
   "metadata": {},
   "outputs": [],
   "source": [
    "airports = {\n",
    "    'LHR': {\n",
    "        'FULLNAME' : 'London Heathrow',\n",
    "        'COUNTRY' : 'ENGLAND', \n",
    "        'ANNUALSTATS': {\n",
    "            'NUMPASSENGERS' : 78012825, \n",
    "            'NUMFLIGHTS' : 475783\n",
    "        }\n",
    "    },\n",
    "    'PHL': {\n",
    "        'FULLNAME' : 'Philadelphia International', \n",
    "        'COUNTRY' : 'US', \n",
    "        'ANNUALSTATS' : {\n",
    "            'NUMPASSENGERS' : 29585754,\n",
    "            'NUMFLIGHTS' : 369928\n",
    "        }\n",
    "    },\n",
    "    'IXC': {\n",
    "        'FULLNAME' : 'Chandigarh International', \n",
    "        'COUNTRY' : 'ENGLAND', \n",
    "        'ANNUALSTATS': {\n",
    "            'NUMPASSENGERS' : 2137739, \n",
    "            'NUMFLIGHTS' : 18715\n",
    "        }\n",
    "    }\n",
    "}"
   ]
  },
  {
   "cell_type": "markdown",
   "id": "7200e457",
   "metadata": {},
   "source": [
    "## 2.a (5 points)\n",
    "\n",
    "Write code to identify and print the annual number of flights from Heathrow Airport, using recursive `dict[...][...]` notation."
   ]
  },
  {
   "cell_type": "code",
   "execution_count": 3,
   "id": "ba194338",
   "metadata": {},
   "outputs": [
    {
     "name": "stdout",
     "output_type": "stream",
     "text": [
      "78012825\n"
     ]
    }
   ],
   "source": [
    "# your question 2.a code here\n",
    "print(airports['LHR']['ANNUALSTATS']['NUMPASSENGERS'])"
   ]
  },
  {
   "cell_type": "markdown",
   "id": "8ecef5a7",
   "metadata": {},
   "source": [
    "## 2.b (5 points)\n",
    "\n",
    "There is an error in the data: Chandigarh is in India, not England. Write code to correct this mistake and print out the corrected `airports` dictionary."
   ]
  },
  {
   "cell_type": "code",
   "execution_count": 4,
   "id": "cb5410e3",
   "metadata": {},
   "outputs": [
    {
     "name": "stdout",
     "output_type": "stream",
     "text": [
      "INDIA\n"
     ]
    }
   ],
   "source": [
    "# your question 2.b code here\n",
    "airports['IXC']['COUNTRY'] = 'INDIA'\n",
    "print(airports['IXC']['COUNTRY'])"
   ]
  },
  {
   "cell_type": "markdown",
   "id": "d5b5ad2c",
   "metadata": {},
   "source": [
    "## 2.c (5 points)\n",
    "\n",
    "Look up data on your home airport and write code to add it to the dictionary. If your home airport is already in the data, add the nearest major airport that is not already in the data."
   ]
  },
  {
   "cell_type": "code",
   "execution_count": 5,
   "id": "4e446d6d",
   "metadata": {},
   "outputs": [],
   "source": [
    "# your question 2.c code here\n",
    "airports['JBMDL'] = {\n",
    "    'JBMDL': {\n",
    "        'FULLNAME' : 'Joint Base McGuire-Dix-Lakehurst/McGuire Air Force Base',\n",
    "        'COUNTRY' : 'US',\n",
    "        'ANNUALSTATS': {\n",
    "            'NUMPASSENGERS' : 'CLASSIFIED',\n",
    "            'NUMFLIGHTS' : 'CLASSIFIED'\n",
    "        }\n",
    "    }\n",
    "}\n"
   ]
  },
  {
   "cell_type": "markdown",
   "id": "3ddb0168",
   "metadata": {},
   "source": [
    "# Question 3 (40 points)\n",
    "\n",
    "In this question, you will work with regular expressions (i.e., \"patterns\" in the `re` module), functions, and various looping approaches.\n",
    "\n",
    "You are a financial analyst working with news articles on stock performance. Your ultimate goal is to analyze the sentiment of coverage. Unfortunately, you have not learned webscraping or text analysis yet. Therefore you have collected a small test corpus from which you will extract ticker symbols and daily gains/losses, provided in the next cell."
   ]
  },
  {
   "cell_type": "code",
   "execution_count": 6,
   "id": "7b63935e",
   "metadata": {},
   "outputs": [],
   "source": [
    "news = [\n",
    "    \"^IXIC 11,630.86 -154.26 (-1.31%) today\",\n",
    "    \"Nvidia (NVDA -2.08%) made a name for itself as a pioneer of graphics processing units\",\n",
    "    \"The stock split occurred after the market closed on August 24, 2022. Shares of TSLA shut at $891.29 when the market closed that day. Shares shut at $891.29 when the market closed that day. Shares were trading at about $302 (+1.65%) after the market opened on August 25th.\",\n",
    "    \"^GSPC - S&P 500. Real Time Price. Currency in United States Dollars. 3,924.26. -42.59 (-1.07%).\",\n",
    "    \"Apple (AAPL, -1.36%) will host its annual iPhone event on Wednesday, Sept. 7.\"    \n",
    "]"
   ]
  },
  {
   "cell_type": "markdown",
   "id": "82f3a39f",
   "metadata": {},
   "source": [
    "## 3.a (5 points)\n",
    "\n",
    "Write code, using the `news` object, to extract the final piece of news from this list and store it in a new variable, `apple_news`. Print the `apple_news` object."
   ]
  },
  {
   "cell_type": "code",
   "execution_count": 7,
   "id": "e58c48a8",
   "metadata": {},
   "outputs": [
    {
     "name": "stdout",
     "output_type": "stream",
     "text": [
      "Apple (AAPL, -1.36%) will host its annual iPhone event on Wednesday, Sept. 7.\n"
     ]
    }
   ],
   "source": [
    "# your question 3.a code here\n",
    "apple_news = news[-1]\n",
    "print(apple_news)"
   ]
  },
  {
   "cell_type": "markdown",
   "id": "cc41e0f7",
   "metadata": {},
   "source": [
    "## 3.b (5 points)\n",
    "\n",
    "Use a regular expression to extract the ticker symbol from `apple_news` and store it a new variable, `apple_ticker`. Print the ticker symbol."
   ]
  },
  {
   "cell_type": "code",
   "execution_count": 8,
   "id": "dc038ca4",
   "metadata": {},
   "outputs": [
    {
     "name": "stdout",
     "output_type": "stream",
     "text": [
      "['AAPL']\n"
     ]
    }
   ],
   "source": [
    "# your question 3.b code here\n",
    "import re\n",
    "apple_ticker = re.findall('[A-Z][A-Z][A-Z][A-Z]', apple_news)\n",
    "print(apple_ticker)"
   ]
  },
  {
   "cell_type": "markdown",
   "id": "626ed992",
   "metadata": {},
   "source": [
    "## 3.c (5 points)\n",
    "\n",
    "Use a regular expression to extract the percentage gain or loss from `apple_news` and store it in a new variable, `apple_percent`. Convert it to a `float` variable and print it."
   ]
  },
  {
   "cell_type": "code",
   "execution_count": 9,
   "id": "1c44139f",
   "metadata": {},
   "outputs": [
    {
     "name": "stdout",
     "output_type": "stream",
     "text": [
      "[-1.3]\n"
     ]
    }
   ],
   "source": [
    "# your question 3.c code here\n",
    "import re\n",
    "apple_percent = re.findall('[-|+]+[0-9]+\\.+[0-9]', apple_news)\n",
    "floats = [float(x) for x in apple_percent] # used external reference\n",
    "print(floats)\n",
    "\n",
    "\n",
    "\n",
    "\n",
    "\n"
   ]
  },
  {
   "cell_type": "markdown",
   "id": "3fe280a1",
   "metadata": {},
   "source": [
    "## 3.d (5 points)\n",
    "\n",
    "Write two functions, `extract_ticker()` and `extract_percent()`, that can do the same for any string in the `news` object. Using your functions, extract both pieces of information from the first piece of news."
   ]
  },
  {
   "cell_type": "code",
   "execution_count": 10,
   "id": "c18eb167",
   "metadata": {},
   "outputs": [
    {
     "name": "stdout",
     "output_type": "stream",
     "text": [
      "['IXIC', 'NVDA', 'TSLA', 'GSPC', 'AAPL']\n",
      "['-1.31%', '-2.08%', '+1.65%', '-1.07%', '-1.36%']\n"
     ]
    }
   ],
   "source": [
    "# your question 3.d code here\n",
    "import re\n",
    "extract_ticker = re.findall('[A-Z][A-Z][A-Z][A-Z]', str(news))\n",
    "extract_percent = re.findall('[-|+]+[0-9]+\\.+[0-9]+\\%', str(news))\n",
    "print(extract_ticker)\n",
    "print(extract_percent)\n"
   ]
  },
  {
   "cell_type": "markdown",
   "id": "a4c8803a",
   "metadata": {},
   "source": [
    "## 3.e (10 points)\n",
    "\n",
    "Using a list comprehension, extract all symbols into a `tickers` list. Also using a list comprehension, extract all gains/losses into a `percents` list."
   ]
  },
  {
   "cell_type": "code",
   "execution_count": 11,
   "id": "ff53e2ca",
   "metadata": {},
   "outputs": [
    {
     "name": "stdout",
     "output_type": "stream",
     "text": [
      "[['IXIC', 'NVDA', 'TSLA', 'GSPC', 'AAPL']]\n",
      "[['-1.31%', '-2.08%', '+1.65%', '-1.07%', '-1.36%']]\n"
     ]
    }
   ],
   "source": [
    "# your question 3.e code here\n",
    "import re\n",
    "tickers = [re.findall('[A-Z][A-Z][A-Z][A-Z]', str(extract_ticker))]\n",
    "percents = [re.findall('[+\\-]+[0-9]+\\.+[0-9]+\\%', str(extract_percent))]\n",
    "\n",
    "print(tickers)\n",
    "print(percents)"
   ]
  },
  {
   "cell_type": "markdown",
   "id": "093b29eb",
   "metadata": {},
   "source": [
    "## 3.f (5 points)\n",
    "\n",
    "Create an empty dictionary, `news_dict`. Using a for loop, append key-value pairs (where keys are tickers and gains/looses are values). Print the dictionary."
   ]
  },
  {
   "cell_type": "code",
   "execution_count": 12,
   "id": "b09150a9",
   "metadata": {},
   "outputs": [
    {
     "name": "stdout",
     "output_type": "stream",
     "text": [
      "{'IXIC': '-1.31%', 'NVDA': '-2.08%', 'TSLA': '+1.65%', 'GSPC': '-1.07%', 'AAPL': '-1.36%'}\n"
     ]
    }
   ],
   "source": [
    "\n",
    "# your question 3.f code here\n",
    "news_dict = {}\n",
    "keys = extract_ticker\n",
    "values = extract_percent\n",
    "for i in range(len(extract_ticker)):\n",
    "    news_dict[keys[i]] = values[i] # used external reference\n",
    "\n",
    "print (news_dict)"
   ]
  },
  {
   "cell_type": "markdown",
   "id": "4f2f8a0d",
   "metadata": {},
   "source": [
    "## 3.g (5 points)\n",
    "\n",
    "Using code, find the best-performing stock."
   ]
  },
  {
   "cell_type": "code",
   "execution_count": 13,
   "id": "c82c262d",
   "metadata": {},
   "outputs": [
    {
     "name": "stdout",
     "output_type": "stream",
     "text": [
      "TSLA\n"
     ]
    }
   ],
   "source": [
    "# your question 3.g code here\n",
    "sorted_values = sorted(news_dict.values())\n",
    "sorted_dict = {}\n",
    "\n",
    "# used external reference\n",
    "for i in sorted_values:\n",
    "    for k in news_dict.keys():\n",
    "        if news_dict[k] == i:\n",
    "            sorted_dict[k] = news_dict[k]\n",
    "            break\n",
    "\n",
    "print(list(sorted_dict.keys())[0])\n",
    "\n",
    "\n"
   ]
  },
  {
   "cell_type": "markdown",
   "id": "8adce06a",
   "metadata": {},
   "source": [
    "# Question 4 (30 points)\n",
    "\n",
    "In this question, you will work with dictionaries, sets, loops, and conditional logic.\n",
    "\n",
    "You are scheduling arrivals and departures for Walmart distribution centers. As part of this process, you must account for time-zone differences in the operational hours of each facility. This question will walk through the steps in computing the time lag, in number of hours behind Eastern time, for each facility.\n",
    "\n",
    "The following code block provides several objects that you will work with. You may wish to read this question in its entirety and carefully inspect the provided objects before beginning. "
   ]
  },
  {
   "cell_type": "code",
   "execution_count": 14,
   "id": "fd0e311b",
   "metadata": {},
   "outputs": [],
   "source": [
    "walmart_dc = [\n",
    "    '5801 SW Regional Airport Blvd, Bentonville, Arkansas',\n",
    "    '1100 N Iris St, Mount Pleasant, Iowa',\n",
    "    '2200 Manufacturers Blvd, Brookhaven, Mississippi',\n",
    "    '42 Freetown Rd, Raymond, New Hampshire',\n",
    "    '300 Enterprise Rd, Johnstown, New York',\n",
    "    '5100 Brookhart Dr #100, Harrisonville, Missouri',\n",
    "    '2155 USA Parkway, McCarran, Nevada',\n",
    "    '21101 Johnson Rd, Apple Valley, California',\n",
    "    '7504 E Crossroads Blvd, Loveland, Colorado',\n",
    "    '3801 E US Hwy 50, Olney, Illinois'\n",
    "]\n",
    "\n",
    "timezones = {\n",
    "    'pacific' : {'WA', 'OR', 'CA' , 'NV'},\n",
    "    'mountain' : {'MT', 'ID', 'UT', 'AZ', 'WY', 'CO', 'NM'},\n",
    "    'central' : {'ND', 'SD', 'NE', 'KS', 'OK', 'TX', 'MN', 'IA', 'MO', 'AR', 'LA', 'WI', 'IL', 'TN', 'MS', 'AL'},\n",
    "    'eastern' : {'MI', 'IN', 'KY', 'OH', 'WV', 'NH', 'PA', 'MD', 'VA', 'NC', 'SC', 'GA', 'FL', 'ME', 'NH', 'VT', 'MA', 'NY', 'RI', 'CT', 'NJ', 'DE', 'DC'}\n",
    "}\n",
    "\n",
    "postal_codes = {\n",
    "    'Alabama' : 'AL',\n",
    "    'Alaska' : 'AK',\n",
    "    'Arizona' : 'AZ',\n",
    "    'Arkansas' : 'AR',\n",
    "    'California' : 'CA',\n",
    "    'Colorado' : 'CO',\n",
    "    'Connecticut' : 'CT',\n",
    "    'Delaware' : 'DE',\n",
    "    'Florida' : 'FL',\n",
    "    'Georgia' : 'GA',\n",
    "    'Hawaii' : 'HI',\n",
    "    'Idaho' : 'ID',\n",
    "    'Illinois' : 'IL',\n",
    "    'Indiana' : 'IN',\n",
    "    'Iowa' : 'IA',\n",
    "    'Kansas' : 'KS',\n",
    "    'Kentucky' : 'KY',\n",
    "    'Louisiana' : 'LA',\n",
    "    'Maine' : 'ME',\n",
    "    'Maryland' : 'MD',\n",
    "    'Massachusetts' : 'MA',\n",
    "    'Michigan' : 'MI',\n",
    "    'Minnesota' : 'MN',\n",
    "    'Mississippi' : 'MS',\n",
    "    'Missouri' : 'MO',\n",
    "    'Montana' : 'MT',\n",
    "    'Nebraska' : 'NE',\n",
    "    'Nevada' : 'NV',\n",
    "    'New Hampshire' : 'NH',\n",
    "    'New Jersey' : 'NJ',\n",
    "    'New Mexico' : 'NM',\n",
    "    'New York' : 'NY',\n",
    "    'North Carolina' : 'NC',\n",
    "    'North Dakota' : 'ND',\n",
    "    'Ohio' : 'OH',\n",
    "    'Oklahoma' : 'OK',\n",
    "    'Oregon' : 'OR',\n",
    "    'Pennsylvania' : 'PA',\n",
    "    'Rhode Island' : 'RI',\n",
    "    'South Carolina' : 'SC',\n",
    "    'South Dakota' : 'SD',\n",
    "    'Tennessee' : 'TN',\n",
    "    'Texas' : 'TX',\n",
    "    'Utah' : 'UT',\n",
    "    'Vermont' : 'VT',\n",
    "    'Virginia' : 'VA',\n",
    "    'Washington' : 'WA',\n",
    "    'West Virginia' : 'WV',\n",
    "    'Wisconsin' : 'WI',\n",
    "    'Wyoming' : 'WY',\n",
    "    'American Samoa' : 'AS',\n",
    "    'Guam' : 'GU',\n",
    "    'Northern Mariana Islands' : 'MP',\n",
    "    'Puerto Rico' : 'PR',\n",
    "    'Virgin Islands' : 'VI'\n",
    "}"
   ]
  },
  {
   "cell_type": "markdown",
   "id": "4aca079b",
   "metadata": {},
   "source": [
    "## 4.a (5 points)\n",
    "\n",
    "Using the `postal_codes` dictionary, extract the complete names of all states. Then, read `help('|'.join)`. Use this information to create a single pipe-separated string containing the complete names of each state (e.g., 'Alabama|Alaska|...'). Store this string as `state_regex`. Print it."
   ]
  },
  {
   "cell_type": "code",
   "execution_count": 15,
   "id": "b4b0a31c",
   "metadata": {},
   "outputs": [
    {
     "name": "stdout",
     "output_type": "stream",
     "text": [
      "Alabama|Alaska|Arizona|Arkansas|California|Colorado|Connecticut|Delaware|Florida|Georgia|Hawaii|Idaho|Illinois|Indiana|Iowa|Kansas|Kentucky|Louisiana|Maine|Maryland|Massachusetts|Michigan|Minnesota|Mississippi|Missouri|Montana|Nebraska|Nevada|New Hampshire|New Jersey|New Mexico|New York|North Carolina|North Dakota|Ohio|Oklahoma|Oregon|Pennsylvania|Rhode Island|South Carolina|South Dakota|Tennessee|Texas|Utah|Vermont|Virginia|Washington|West Virginia|Wisconsin|Wyoming|American Samoa|Guam|Northern Mariana|Islands|Puerto Rico|Virgin Islands\n"
     ]
    }
   ],
   "source": [
    "# your question 4.a code here\n",
    "import re\n",
    "state_regex='|'.join(re.findall('[A-Z]+[a-z]*[a-z]+[ ]+[A-Z]+[a-z]*[a-z]|[A-Z]+[a-z]*[a-z]', str(postal_codes)))\n",
    "print(state_regex)"
   ]
  },
  {
   "cell_type": "markdown",
   "id": "1d2cc2b4",
   "metadata": {},
   "source": [
    "## 4.b (5 points)\n",
    "\n",
    "Write a function that extracts the state from any string in the `walmart_dc` list. Apply it to the first element and print the result."
   ]
  },
  {
   "cell_type": "code",
   "execution_count": 16,
   "id": "0b32b1ce",
   "metadata": {},
   "outputs": [
    {
     "name": "stdout",
     "output_type": "stream",
     "text": [
      "Arkansas\n"
     ]
    }
   ],
   "source": [
    "# your question 4.b code here\n",
    "print(re.findall(state_regex, str(walmart_dc))[0])"
   ]
  },
  {
   "cell_type": "markdown",
   "id": "c606f22e",
   "metadata": {},
   "source": [
    "## 4.c (5 points)\n",
    "\n",
    "Create a new `walmart_dc_state` list. Loop over the `walmart_dc` address list and extract the state using your function. Store the results in `walmart_dc_state`. Print it."
   ]
  },
  {
   "cell_type": "code",
   "execution_count": 17,
   "id": "1302687a",
   "metadata": {},
   "outputs": [
    {
     "name": "stdout",
     "output_type": "stream",
     "text": [
      "['Arkansas', 'Iowa', 'Mississippi', 'New Hampshire', 'New York', 'Missouri', 'Nevada', 'California', 'Colorado', 'Illinois']\n"
     ]
    }
   ],
   "source": [
    "# your question 4.c code here\n",
    "walmart_dc_state = []\n",
    "\n",
    "# used external reference\n",
    "for i in range(len(walmart_dc)):\n",
    "    walmart_dc_state.append(re.findall(state_regex, str(walmart_dc))[i])\n",
    "\n",
    "print(walmart_dc_state)"
   ]
  },
  {
   "cell_type": "markdown",
   "id": "75ec208e",
   "metadata": {},
   "source": [
    "## 4.d (5 points)\n",
    "\n",
    "Create a new `walmart_dc_stateabbr` list. Loop over the `walmart_dc_state` list and look up the state abbreviation for each distribution center, using the `postal_codes` dictionary. Store the results in `walmart_dc_stateabbr`. Print it."
   ]
  },
  {
   "cell_type": "code",
   "execution_count": 20,
   "id": "ab537692",
   "metadata": {},
   "outputs": [
    {
     "name": "stdout",
     "output_type": "stream",
     "text": [
      "['AR', 'IA', 'MS', 'NH', 'NY', 'MO', 'NV', 'CA', 'CO', 'IL']\n"
     ]
    }
   ],
   "source": [
    "# your question 4.d code here\n",
    "walmart_dc_stateabbr = []\n",
    "\n",
    "# used external reference\n",
    "for i in range(len(walmart_dc_state)):\n",
    "    walmart_dc_stateabbr.append(postal_codes[walmart_dc_state[i]])\n",
    "\n",
    "print(walmart_dc_stateabbr)"
   ]
  },
  {
   "cell_type": "markdown",
   "id": "4ef92790",
   "metadata": {},
   "source": [
    "## 4.e (10 points)\n",
    "\n",
    "Create a new `walmart_dc_timelag` list. Loop over the `walmart_dc_stateabbr` list. For each element, check if it is in the Pacific timezone and, if so, define the time lag as `-3`. Otherwise, let the time lag be `-2`, `-1`, and `0` for states in Mountain, Central, and Eastern time respectively. Store the results in `walmart_dc_timelag`. Print it."
   ]
  },
  {
   "cell_type": "code",
   "execution_count": 21,
   "id": "e05019ce",
   "metadata": {},
   "outputs": [
    {
     "name": "stdout",
     "output_type": "stream",
     "text": [
      "['-1', '-1', '-1', '0', '0', '-1', '-3', '-3', '-2', '-1']\n"
     ]
    }
   ],
   "source": [
    "# your question 4.e code here\n",
    "walmart_dc_timelag = []\n",
    "\n",
    "# used external reference\n",
    "for i in range(len(walmart_dc_stateabbr)):\n",
    "    if walmart_dc_stateabbr[i] in timezones['pacific']:\n",
    "        walmart_dc_timelag.append('-3')\n",
    "    elif walmart_dc_stateabbr[i] in timezones['mountain']:\n",
    "        walmart_dc_timelag.append('-2')\n",
    "    elif walmart_dc_stateabbr[i] in timezones['central']:\n",
    "        walmart_dc_timelag.append('-1')\n",
    "    elif walmart_dc_stateabbr[i] in timezones['eastern']:\n",
    "        walmart_dc_timelag.append('0')\n",
    "\n",
    "print(walmart_dc_timelag)"
   ]
  }
 ],
 "metadata": {
  "kernelspec": {
   "display_name": "Python 3.9.12 ('base')",
   "language": "python",
   "name": "python3"
  },
  "language_info": {
   "codemirror_mode": {
    "name": "ipython",
    "version": 3
   },
   "file_extension": ".py",
   "mimetype": "text/x-python",
   "name": "python",
   "nbconvert_exporter": "python",
   "pygments_lexer": "ipython3",
   "version": "3.9.12"
  },
  "vscode": {
   "interpreter": {
    "hash": "14c2485957b2ce2426b726e732a99c51660700eeffcabbe66967fd94d549347c"
   }
  }
 },
 "nbformat": 4,
 "nbformat_minor": 5
}
