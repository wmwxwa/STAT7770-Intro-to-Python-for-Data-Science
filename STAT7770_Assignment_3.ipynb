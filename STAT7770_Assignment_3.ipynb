{
 "cells": [
  {
   "cell_type": "code",
   "execution_count": null,
   "id": "b8940f3f",
   "metadata": {},
   "outputs": [],
   "source": [
    "# display output from every line without explicit print()\n",
    "from IPython.core.interactiveshell import InteractiveShell\n",
    "InteractiveShell.ast_node_interactivity = \"all\""
   ]
  },
  {
   "cell_type": "code",
   "execution_count": null,
   "id": "808c6c44",
   "metadata": {},
   "outputs": [],
   "source": [
    "import pathlib\n",
    "import pandas as pd\n",
    "import plotnine as pn"
   ]
  },
  {
   "cell_type": "markdown",
   "id": "4df75239",
   "metadata": {},
   "source": [
    "# Introduction to Python for Data Science, Homework 3\n",
    "\n",
    "YOUR NAME HERE"
   ]
  },
  {
   "cell_type": "markdown",
   "id": "2fddb925",
   "metadata": {},
   "source": [
    "# Question 1\n",
    "\n",
    "This problem set will use data visualization to draw various insights from the Census ABS data. However, visualizing 51 states and 100 industries is difficult. Therefore, in this question, you will first pull in auxiliary information to help categorize states into regions and industries into sector groups. Questions 2 and 3 will then create the plots."
   ]
  },
  {
   "cell_type": "markdown",
   "id": "1114d494",
   "metadata": {},
   "source": [
    "## 1.a\n",
    "\n",
    "Load `census_abs.csv` into an object named `abs_df`. Drop duplicates. You should have 5,027 rows.\n",
    "\n",
    "Next, load `state_pop.csv` into an object named `pop_df`. Merge population into `abs_df`. \n",
    "\n",
    "Verify that you still have 5,027 rows and the resulting `DataFrame` has no missingness. If you need to modify any part of `pop_df`, do it through code (i.e., do not edit the underlying CSV)."
   ]
  },
  {
   "cell_type": "code",
   "execution_count": null,
   "id": "891bd4ae",
   "metadata": {},
   "outputs": [],
   "source": [
    "abs_path = pathlib.Path('./census_abs.csv')\n",
    "abs_df = pd.read_csv(abs_path)\n",
    "abs_df = abs_df.drop_duplicates()\n",
    "abs_df['state'] = abs_df['state'].replace('District of Columbia', 'Washington, D.C.')\n",
    "\n",
    "state_path = pathlib.Path('./state_pop.csv')\n",
    "pop_df = pd.read_csv(state_path)\n",
    "pop_df.columns = ['state', 'state_population']\n",
    "pop_df = pop_df[pop_df['state'].isin(abs_df['state'])]\n",
    "\n",
    "abs_df = abs_df.merge(pop_df, on='state')\n"
   ]
  },
  {
   "cell_type": "markdown",
   "id": "480e49a4",
   "metadata": {},
   "source": [
    "## 1.b\n",
    "\n",
    "Programmatically convert this information on Census Bureau-designated regions and divisions, which is provided below in its original structure as found on https://en.wikipedia.org/wiki/List_of_regions_of_the_United_States, into a `DataFrame`. Merge it into `abs_df`.\n",
    "\n",
    "Verify that you still have 5,027 rows and the resulting `DataFrame` has no missingness. If you need to modify any part of `regions_dict`, do it through code (i.e., do not edit the code block below).\n",
    "\n",
    "**Hint:** One approach is to loop through regions and, for each region, loop through divisions. For each division, you can then construct a division-specific `DataFrame`. Finally, concatenate the results with `pd.concat()`."
   ]
  },
  {
   "cell_type": "code",
   "execution_count": null,
   "id": "c40eb3f0",
   "metadata": {},
   "outputs": [],
   "source": [
    "# do not edit this code block\n",
    "regions_dict = {\n",
    "    # region 1\n",
    "    'Northeast' : {\n",
    "        # division 1\n",
    "        'New England' : ['Connecticut', 'Maine', 'Massachusetts', 'New Hampshire', 'Rhode Island', 'Vermont'],\n",
    "        # division 2\n",
    "        'Mid-Atlantic' : ['New Jersey', 'New York', 'Pennsylvania']\n",
    "    },\n",
    "    # region 2\n",
    "    'Midwest' : {\n",
    "        # division 3\n",
    "        'East North Central' : ['Illinois', 'Indiana', 'Michigan', 'Ohio', 'Wisconsin'],\n",
    "        # division 4\n",
    "        'West North Central' : ['Iowa', 'Kansas', 'Minnesota', 'Missouri', 'Nebraska', 'North Dakota', 'South Dakota']\n",
    "    },\n",
    "    # region 3\n",
    "    'South' : {\n",
    "        # division 5\n",
    "        'South Atlantic' : ['Delaware', 'Florida', 'Georgia', 'Maryland', 'North Carolina', 'South Carolina', 'Virginia', 'Washington, D.C.', 'West Virginia'],\n",
    "        # division 6\n",
    "        'East South Central' : ['Alabama', 'Kentucky', 'Mississippi', 'Tennessee'],\n",
    "        # division 7\n",
    "        'West South Central' : ['Arkansas', 'Louisiana', 'Oklahoma', 'Texas']\n",
    "    },\n",
    "    # region 4\n",
    "    'West' : {\n",
    "        # division 8\n",
    "        'Mountain' : ['Arizona', 'Colorado', 'Idaho', 'Montana', 'Nevada', 'New Mexico', 'Utah', 'Wyoming'],\n",
    "        # division 9\n",
    "        'Pacific' : ['Alaska', 'California', 'Hawaii', 'Oregon', 'Washington']        \n",
    "    }\n",
    "}"
   ]
  },
  {
   "cell_type": "code",
   "execution_count": null,
   "id": "31c0450d",
   "metadata": {},
   "outputs": [],
   "source": [
    "regions_df = pd.DataFrame()\n",
    "for region, divisions in regions_dict.items():  #used outside reference\n",
    "    for division, states in divisions.items():  #used outside reference\n",
    "        division_df = pd.DataFrame({'region': region, 'division': division, 'state': states})  #used outside reference\n",
    "        regions_df = pd.concat([regions_df, division_df])  #used outside reference\n",
    "regions_df = regions_df.reset_index(drop=True)   #used outside reference\n",
    "\n",
    "abs_df = abs_df.merge(regions_df, on='state')  #used outside reference"
   ]
  },
  {
   "cell_type": "markdown",
   "id": "ae55454d",
   "metadata": {},
   "source": [
    "## 1.c\n",
    "\n",
    "Load `census_abs_sector_industry.csv`, which provides a sector code for each industry, into an object called `sector_df`. Define your own categorization scheme to group these into 8–12 meaningful groups. Then, come up with a concise but informative name for each group.\n",
    "\n",
    "Merge your group names into `abs_df`. You are free to drop rows that contain totals or catch-all \"other\" industries.\n",
    "\n",
    "**Hint:** There are many ways to reduce/combine the 21 sector codes into 8–12 sector groups. Here are three possible strategies to get you started. You will probably only need one of these.\n",
    "- `.cat`\n",
    "- `.rename()`\n",
    "- `merge()`"
   ]
  },
  {
   "cell_type": "code",
   "execution_count": null,
   "id": "320b1d6d",
   "metadata": {},
   "outputs": [],
   "source": [
    "sector_path = pathlib.Path('./census_abs_sector_industry.csv')\n",
    "sector_df = pd.read_csv(sector_path)\n",
    "sector_df['sector_code'] = sector_df['sector_code'].replace([10, 11, 12, 13, 14, 15, 16, 17, 18, 19], '10-series') #used outside reference\n",
    "sector_df['sector_code'] = sector_df['sector_code'].replace([20, 21, 22, 23, 24, 25, 26, 27, 28, 29], '20-series')\n",
    "sector_df['sector_code'] = sector_df['sector_code'].replace([30, 31, 32, 33, 34, 35, 36, 37, 38, 39], '30-series')\n",
    "sector_df['sector_code'] = sector_df['sector_code'].replace([40, 41, 42, 43, 44, 45, 46, 47, 48, 49], '40-series')\n",
    "sector_df['sector_code'] = sector_df['sector_code'].replace([50, 51, 52, 53, 54, 55, 56, 57, 58, 59], '50-series')\n",
    "sector_df['sector_code'] = sector_df['sector_code'].replace([60, 61, 62, 63, 64, 65, 66, 67, 68, 69], '60-series')\n",
    "sector_df['sector_code'] = sector_df['sector_code'].replace([70, 71, 72, 73, 74, 75, 76, 77, 78, 79], '70-series')\n",
    "sector_df['sector_code'] = sector_df['sector_code'].replace([80, 81, 82, 83, 84, 85, 86, 87, 88, 89], '80-series')\n",
    "sector_df['sector_code'] = sector_df['sector_code'].replace([90, 91, 92, 93, 94, 95, 96, 97, 98, 99], '90-series')\n",
    "display(sector_df)\n",
    "\n",
    "\n",
    "abs_df = abs_df[abs_df['industry'] != 'Total for all sectors']  #used outside reference\n",
    "abs_df = abs_df.merge(sector_df, on='industry')\n",
    "\n",
    "\n",
    "display(abs_df)\n",
    "\n"
   ]
  },
  {
   "cell_type": "markdown",
   "id": "3bb7c861",
   "metadata": {},
   "source": [
    "# Question 2\n",
    "\n",
    "In this question, you will make scatterplots."
   ]
  },
  {
   "cell_type": "markdown",
   "id": "a5dbb2c5",
   "metadata": {},
   "source": [
    "## 2.a\n",
    "\n",
    "Make a scatterplot in which each point is a state-industry, the horizontal axis is the number of employees (in thousands), and the vertical axis is the total payroll (in billions of dollars). Add well-formatted and informative axis labels. Pick a nice theme from https://plotnine.readthedocs.io/en/stable/generated/plotnine.themes.theme.html and apply it."
   ]
  },
  {
   "cell_type": "code",
   "execution_count": null,
   "id": "f846c6b6",
   "metadata": {},
   "outputs": [],
   "source": [
    "\n",
    "pn.options.figure_size = (10, 10)\n",
    "\n",
    "(\n",
    "    pn.ggplot(abs_df,\n",
    "              pn.aes(x = 'n_employees',\n",
    "                     y = 'payroll_1000s',\n",
    "                     color = 'sector_code',\n",
    "                    )\n",
    "             )\n",
    "    + pn.geom_point()\n",
    "    + pn.xlab('Number of Employees (thousands)')\n",
    "    + pn.ylab('Payrool ($billions)')\n",
    "    + pn.scale_y_continuous(labels = lambda x: x/1000000)  #used outside reference\n",
    "    + pn.scale_x_continuous(labels = lambda x: x/1000)  #used outside reference\n",
    ")\n"
   ]
  },
  {
   "cell_type": "markdown",
   "id": "282b2ab5",
   "metadata": {},
   "source": [
    "## 2.b\n",
    "\n",
    "First, compute the average wage by dividing total payroll (across all states and industries) by the total number of employees.\n",
    "\n",
    "Second, take your previous plot and facet it by sector group.\n",
    "\n",
    "Third, using `geom_abline()`, add a dashed line to each facet to indicate where we would expect points to lie if every worker received the same annual wage. You should use `intercept = 0` and provide a `slope` argument based on your calculations from above.\n",
    "\n",
    "Finally, using `ggtitle()`, add an informative title that makes a claim about how individuals in one particular sector are paid more than, less than, or about the same as the average wage."
   ]
  },
  {
   "cell_type": "code",
   "execution_count": null,
   "id": "e303c6c6",
   "metadata": {},
   "outputs": [],
   "source": [
    "total_payroll = abs_df['payroll_1000s'].sum()\n",
    "total_employees = abs_df['n_employees'].sum()\n",
    "avg_wage = total_payroll / total_employees\n",
    "avg_wage\n",
    "\n",
    "(\n",
    "    pn.ggplot(abs_df,\n",
    "              pn.aes(x = 'n_employees',\n",
    "                     y = 'payroll_1000s',\n",
    "                     color = 'sector_code',\n",
    "                    )\n",
    "             )\n",
    "    + pn.geom_point()\n",
    "    + pn.xlab('Number of Employees (thousands)')\n",
    "    + pn.ylab('Payrool ($billions)')\n",
    "    + pn.scale_y_continuous(labels = lambda x: x/1000000)\n",
    "    + pn.scale_x_continuous(labels = lambda x: x/1000)\n",
    "    + pn.facet_wrap('sector_code')\n",
    "    + pn.geom_abline(intercept = 0, slope = avg_wage, linetype = 'dashed')\n",
    "    + pn.ggtitle('Each sector\\'s wages in comparison to the average wage (dashed line)')\n",
    ")"
   ]
  },
  {
   "cell_type": "markdown",
   "id": "530f7649",
   "metadata": {},
   "source": [
    "## 2.c\n",
    "\n",
    "First, create a new `wage` column in `abs_df`, containing the average wage within each state-industry.\n",
    "\n",
    "Second, create a scatterplot in which the horizontal axis is sector, the vertical axis is average wage, and color is region. \n",
    "- Use `position = pn.position_dodge(width = .5)` to offset points from different regions so they do not overlap. \n",
    "- Use `scale_color_manual()` or `scale_color_brewer()` to add a custom color scheme. If you use ColorBrewer, some palette names can be found at www.colorbrewer.org. \n",
    "- Use `theme(axis_text_x = ...)` to tweak your labels so they do not overlap. The `axis_text_x` argument must be generated using `element_text()`. Some useful arguments for `element_text()` are `angle`, `hjust`, and `vjust`. You should consult the documentation and play around with settings to find a solution that works.\n",
    "\n",
    "Finally, as always, use well-formatted and informative labels. Add an informative title that makes a claim about whether region or sector group is a better predictor of wages."
   ]
  },
  {
   "cell_type": "code",
   "execution_count": null,
   "id": "855ec776",
   "metadata": {},
   "outputs": [],
   "source": [
    "abs_df['wage'] = abs_df['payroll_1000s'] / abs_df['n_employees']\n",
    "\n",
    "(\n",
    "    pn.ggplot(abs_df,\n",
    "                pn.aes(x = 'sector_code',\n",
    "                       y = 'wage',\n",
    "                       color = 'region',\n",
    "                       )                                                               \n",
    "                )\n",
    "    + pn.geom_point(position = pn.position_dodge(width = 0.5))\n",
    "    + pn.scale_color_brewer()\n",
    "    + pn.xlab('Sector')\n",
    "    + pn.theme(axis_text_x = pn.element_text(angle = 90, hjust = 1))  #used outside reference\n",
    "    + pn.ggtitle('Wages by sector and region')\n",
    ")\n",
    "    \n"
   ]
  },
  {
   "cell_type": "markdown",
   "id": "89d95127",
   "metadata": {},
   "source": [
    "# Question 3\n",
    "\n",
    "In this question, you will make other kinds of plots."
   ]
  },
  {
   "cell_type": "markdown",
   "id": "6989960b",
   "metadata": {},
   "source": [
    "## 3.a\n",
    "\n",
    "First, aggregate your data to the region level. Compute the average wage of all workers in the region—that is, total payroll (summing over all state-industries in the region), divided by total number of workers (again summing over all state-industries in the region).\n",
    "\n",
    "Then, create a bar plot, using `geom_col()`, in which the vertical height of each bar is the average wage. The horizontal axis should denote region. You should have a total of four bars.\n",
    "\n",
    "Using `scale_fill_brewer()` or `scale_fill_manual()`, fill each bar with a different color. Add a black border to each bar. Using `geom_hline()`, add a solid black line at zero. As always, use well-formatted and informative labels."
   ]
  },
  {
   "cell_type": "code",
   "execution_count": null,
   "id": "04bb4e6d",
   "metadata": {},
   "outputs": [],
   "source": [
    "\n",
    "region_df = abs_df.groupby(['region']).agg({'payroll_1000s': 'sum', 'n_employees': 'sum'}).reset_index()  #used outside reference\n",
    "region_df['avg_wage'] = region_df['payroll_1000s'] / region_df['n_employees']  #used outside reference\n",
    "\n",
    "(\n",
    "    pn.ggplot(region_df,\n",
    "                pn.aes(x = 'region',\n",
    "                       y = 'avg_wage',   \n",
    "                      )\n",
    "                )\n",
    "    + pn.geom_col()\n",
    "    + pn.xlab('Region')\n",
    "    + pn.ylab('Average Wage')\n",
    "    + pn.ggtitle('Average Wage by Region')\n",
    "    + pn.scale_fill_manual(values = ['#FF0000', '#FF7F00', '#FFFF00', '#00FF00', '#0000FF', '#4B0082', '#9400D3'])\n",
    "    + pn.geom_hline(yintercept = 0, linetype = 'solid', color = 'black')  #used outside reference \n",
    "    + pn.theme(axis_text_x = pn.element_text(angle = 90, hjust = 1))\n",
    ")\n"
   ]
  },
  {
   "cell_type": "markdown",
   "id": "c2714b19",
   "metadata": {},
   "source": [
    "## 3.b\n",
    "\n",
    "First, aggregate your data to regions and sector groups. Within each region and sector group, compute the average wage.\n",
    "\n",
    "Second, group by region. Programmatically identify whether a sector group is the highest-paying in its region. There should be four `True` values in this output. Store this information as an additional column in your aggregated data.\n",
    "\n",
    "Third, create a plot using `geom_text()` in which the horizontal axis is region, the vertical axis is average wage, and the label is the name of the sector group. Fiddle with plot settings until your text is legible and does not overlap too much (some vertical overlap is inevitable, because there are sector groups in each region that pay a similar amount).\n",
    "\n",
    "Finally, using `scale_color_manual()`, indicate the highest-paying industry in each region by coloring it in red. Leave all other industries in the region black. As always, use well-formatted and informative labels."
   ]
  },
  {
   "cell_type": "code",
   "execution_count": null,
   "id": "ad5e18b2",
   "metadata": {},
   "outputs": [],
   "source": [
    "\n",
    "region_sector_df = abs_df.groupby(['region', 'sector_code']).agg({'payroll_1000s': 'sum', 'n_employees': 'sum'}).reset_index()  #used outside reference\n",
    "region_sector_df['avg_wage'] = region_sector_df['payroll_1000s'] / region_sector_df['n_employees']  #used outside reference\n",
    "\n",
    "region_sector_df['highest_wage'] = region_sector_df.groupby('region')['avg_wage'].transform(max) == region_sector_df['avg_wage']  #used outside reference\n",
    "\n",
    "(\n",
    "    pn.ggplot(region_sector_df,\n",
    "                pn.aes(x = 'region',\n",
    "                       y = 'avg_wage',\n",
    "                       label = 'sector_code',\n",
    "                            )\n",
    "                )\n",
    "    + pn.geom_text(position = pn.position_dodge(width = 0.5))\n",
    "    + pn.xlab('Region')\n",
    "    + pn.ylab('Average Wage')\n",
    "    + pn.ggtitle('Average Wage by Region')\n",
    "    + pn.geom_hline(yintercept = 0, linetype = 'solid', color = 'black')\n",
    "    + pn.theme(axis_text_x = pn.element_text(angle = 90, hjust = 1))\n",
    "    + pn.scale_color_manual(values = ['#000000', '#FF0000'])\n",
    "\n",
    ")\n",
    "\n"
   ]
  }
 ],
 "metadata": {
  "kernelspec": {
   "display_name": "Python 3.9.12 ('base')",
   "language": "python",
   "name": "python3"
  },
  "language_info": {
   "codemirror_mode": {
    "name": "ipython",
    "version": 3
   },
   "file_extension": ".py",
   "mimetype": "text/x-python",
   "name": "python",
   "nbconvert_exporter": "python",
   "pygments_lexer": "ipython3",
   "version": "3.9.12"
  },
  "vscode": {
   "interpreter": {
    "hash": "14c2485957b2ce2426b726e732a99c51660700eeffcabbe66967fd94d549347c"
   }
  }
 },
 "nbformat": 4,
 "nbformat_minor": 5
}
